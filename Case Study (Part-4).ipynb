{
 "cells": [
  {
   "cell_type": "code",
   "execution_count": 187,
   "metadata": {},
   "outputs": [],
   "source": [
    "\"\"\"Importing files and relevant packages and defining global variables\"\"\"\n",
    "import pandas as pd\n",
    "import numpy as np\n",
    "\n",
    "data = pd.read_csv('data_cleaned.csv')\n",
    "SEGMENT_COLS = ['Are you looking for a job?', 'Q13-C22 - Do you work currently? - Answer', 'Have you ever worked before?',\n",
    "                'D1# City size', 'D2# Gender', 'D3# Age', 'D4# Education']"
   ]
  },
  {
   "cell_type": "code",
   "execution_count": 173,
   "metadata": {},
   "outputs": [
    {
     "data": {
      "text/plain": [
       "3692"
      ]
     },
     "execution_count": 173,
     "metadata": {},
     "output_type": "execute_result"
    }
   ],
   "source": [
    "len(data)"
   ]
  },
  {
   "cell_type": "code",
   "execution_count": 47,
   "metadata": {},
   "outputs": [
    {
     "name": "stderr",
     "output_type": "stream",
     "text": [
      "C:\\Users\\tarun.trivedi\\AppData\\Local\\Continuum\\anaconda3\\lib\\site-packages\\ipykernel_launcher.py:6: SettingWithCopyWarning: \n",
      "A value is trying to be set on a copy of a slice from a DataFrame.\n",
      "Try using .loc[row_indexer,col_indexer] = value instead\n",
      "\n",
      "See the caveats in the documentation: http://pandas.pydata.org/pandas-docs/stable/indexing.html#indexing-view-versus-copy\n",
      "  \n",
      "C:\\Users\\tarun.trivedi\\AppData\\Local\\Continuum\\anaconda3\\lib\\site-packages\\ipykernel_launcher.py:7: SettingWithCopyWarning: \n",
      "A value is trying to be set on a copy of a slice from a DataFrame.\n",
      "Try using .loc[row_indexer,col_indexer] = value instead\n",
      "\n",
      "See the caveats in the documentation: http://pandas.pydata.org/pandas-docs/stable/indexing.html#indexing-view-versus-copy\n",
      "  import sys\n"
     ]
    }
   ],
   "source": [
    "\"\"\"Response analysis\"\"\"\n",
    "monthly_net_salary_cols = [col for col in data.columns.tolist() if 'monthly_net_salary' in col and 'expected_' not in col]\n",
    "exp_monthly_net_salary_cols = [col for col in data.columns.tolist() if 'expected_' in col]\n",
    "\n",
    "data_slice = data[['id'] + monthly_net_salary_cols + exp_monthly_net_salary_cols + SEGMENT_COLS]\n",
    "data_slice['monthly_income_num_responses'] = len(monthly_net_salary_cols) - data_slice[monthly_net_salary_cols].isnull().sum(axis=1) \n",
    "data_slice['exp_monthly_income_num_responses'] = len(exp_monthly_net_salary_cols) - data_slice[exp_monthly_net_salary_cols].isnull().sum(axis=1) "
   ]
  },
  {
   "cell_type": "code",
   "execution_count": 48,
   "metadata": {},
   "outputs": [
    {
     "data": {
      "text/plain": [
       "1    2931\n",
       "0     682\n",
       "2      59\n",
       "3      16\n",
       "4       2\n",
       "8       1\n",
       "6       1\n",
       "Name: monthly_income_num_responses, dtype: int64"
      ]
     },
     "execution_count": 48,
     "metadata": {},
     "output_type": "execute_result"
    }
   ],
   "source": [
    "data_slice['monthly_income_num_responses'].value_counts(dropna=False)"
   ]
  },
  {
   "cell_type": "code",
   "execution_count": 49,
   "metadata": {},
   "outputs": [
    {
     "data": {
      "text/plain": [
       "1    2195\n",
       "0     755\n",
       "2     462\n",
       "3     123\n",
       "4      52\n",
       "5      41\n",
       "6      34\n",
       "7      27\n",
       "8       3\n",
       "Name: exp_monthly_income_num_responses, dtype: int64"
      ]
     },
     "execution_count": 49,
     "metadata": {},
     "output_type": "execute_result"
    }
   ],
   "source": [
    "data_slice['exp_monthly_income_num_responses'].value_counts(dropna=False)"
   ]
  },
  {
   "cell_type": "code",
   "execution_count": 50,
   "metadata": {},
   "outputs": [
    {
     "data": {
      "text/plain": [
       "2882"
      ]
     },
     "execution_count": 50,
     "metadata": {},
     "output_type": "execute_result"
    }
   ],
   "source": [
    "\"\"\"Excluding responders who have not provided any response to either monthly income questions \n",
    "or exp monthly income questions\"\"\"\n",
    "\n",
    "data_slice = data_slice[(data_slice['monthly_income_num_responses'] > 0) & (data_slice['exp_monthly_income_num_responses'] > 0)]\n",
    "len(data_slice)"
   ]
  },
  {
   "cell_type": "code",
   "execution_count": 51,
   "metadata": {},
   "outputs": [
    {
     "data": {
      "text/plain": [
       "0    1824\n",
       "1    1058\n",
       "Name: current_job_flag, dtype: int64"
      ]
     },
     "execution_count": 51,
     "metadata": {},
     "output_type": "execute_result"
    }
   ],
   "source": [
    "\"\"\"Filtering responders who provided info about their current job\"\"\"\n",
    "\n",
    "data_slice['current_job_flag'] = (data_slice.values == 'current job').any(1).astype(int)\n",
    "data_slice['current_job_flag'].value_counts()"
   ]
  },
  {
   "cell_type": "code",
   "execution_count": 53,
   "metadata": {},
   "outputs": [],
   "source": [
    "data_slice = data_slice[data_slice['current_job_flag'] == 1]"
   ]
  },
  {
   "cell_type": "code",
   "execution_count": 55,
   "metadata": {},
   "outputs": [],
   "source": [
    "\"\"\"Converting fields current job and sought-after job in data to numeric for ease of analysis\"\"\"\n",
    "\n",
    "data_slice.replace('current job', 1, inplace=True)\n",
    "data_slice.replace('sought-after job', 1, inplace=True)"
   ]
  },
  {
   "cell_type": "code",
   "execution_count": 62,
   "metadata": {},
   "outputs": [],
   "source": [
    "\"\"\"Cross tab summary\"\"\"\n",
    "\n",
    "def doCrossTabSummary(df):\n",
    "    summary_clubbed = pd.DataFrame()\n",
    "    for col in monthly_net_salary_cols:\n",
    "        df_slice = df[df[col] == 1]\n",
    "        summary = pd.DataFrame(df_slice[exp_monthly_net_salary_cols].sum())\n",
    "        summary = summary.transpose()\n",
    "        summary['income_segment'] = col\n",
    "        summary = summary[['income_segment'] + exp_monthly_net_salary_cols]\n",
    "        summary_clubbed = summary_clubbed.append(summary)\n",
    "    return summary_clubbed\n"
   ]
  },
  {
   "cell_type": "code",
   "execution_count": 70,
   "metadata": {},
   "outputs": [
    {
     "data": {
      "text/html": [
       "<div>\n",
       "<style scoped>\n",
       "    .dataframe tbody tr th:only-of-type {\n",
       "        vertical-align: middle;\n",
       "    }\n",
       "\n",
       "    .dataframe tbody tr th {\n",
       "        vertical-align: top;\n",
       "    }\n",
       "\n",
       "    .dataframe thead th {\n",
       "        text-align: right;\n",
       "    }\n",
       "</style>\n",
       "<table border=\"1\" class=\"dataframe\">\n",
       "  <thead>\n",
       "    <tr style=\"text-align: right;\">\n",
       "      <th></th>\n",
       "      <th>income_segment</th>\n",
       "      <th>expected_monthly_net_salary_upto_1000eur</th>\n",
       "      <th>expected_monthly_net_salary_1001_1500eur</th>\n",
       "      <th>expected_monthly_net_salary_2001_3000eur</th>\n",
       "      <th>expected_monthly_net_salary_3001_4000eur</th>\n",
       "      <th>expected_monthly_net_salary_4001_5000eur</th>\n",
       "      <th>expected_monthly_net_salary_5001_6000eur</th>\n",
       "      <th>expected_monthly_net_salary_mt_6000eur</th>\n",
       "      <th>expected_monthly_net_salary_refuse_to_answer</th>\n",
       "    </tr>\n",
       "  </thead>\n",
       "  <tbody>\n",
       "    <tr>\n",
       "      <th>0</th>\n",
       "      <td>monthly_net_salary_upto_1000eur</td>\n",
       "      <td>25.0</td>\n",
       "      <td>189.0</td>\n",
       "      <td>203.0</td>\n",
       "      <td>48.0</td>\n",
       "      <td>17.0</td>\n",
       "      <td>12.0</td>\n",
       "      <td>11.0</td>\n",
       "      <td>9.0</td>\n",
       "    </tr>\n",
       "    <tr>\n",
       "      <th>0</th>\n",
       "      <td>monthly_net_salary_1001_1500eur</td>\n",
       "      <td>7.0</td>\n",
       "      <td>45.0</td>\n",
       "      <td>226.0</td>\n",
       "      <td>74.0</td>\n",
       "      <td>22.0</td>\n",
       "      <td>20.0</td>\n",
       "      <td>11.0</td>\n",
       "      <td>8.0</td>\n",
       "    </tr>\n",
       "    <tr>\n",
       "      <th>0</th>\n",
       "      <td>monthly_net_salary_2001_3000eur</td>\n",
       "      <td>2.0</td>\n",
       "      <td>2.0</td>\n",
       "      <td>66.0</td>\n",
       "      <td>124.0</td>\n",
       "      <td>51.0</td>\n",
       "      <td>28.0</td>\n",
       "      <td>10.0</td>\n",
       "      <td>5.0</td>\n",
       "    </tr>\n",
       "    <tr>\n",
       "      <th>0</th>\n",
       "      <td>monthly_net_salary_3001_4000eur</td>\n",
       "      <td>0.0</td>\n",
       "      <td>3.0</td>\n",
       "      <td>6.0</td>\n",
       "      <td>15.0</td>\n",
       "      <td>27.0</td>\n",
       "      <td>18.0</td>\n",
       "      <td>3.0</td>\n",
       "      <td>0.0</td>\n",
       "    </tr>\n",
       "    <tr>\n",
       "      <th>0</th>\n",
       "      <td>monthly_net_salary_4001_5000eur</td>\n",
       "      <td>0.0</td>\n",
       "      <td>1.0</td>\n",
       "      <td>2.0</td>\n",
       "      <td>7.0</td>\n",
       "      <td>8.0</td>\n",
       "      <td>20.0</td>\n",
       "      <td>0.0</td>\n",
       "      <td>1.0</td>\n",
       "    </tr>\n",
       "    <tr>\n",
       "      <th>0</th>\n",
       "      <td>monthly_net_salary_5001_6000eur</td>\n",
       "      <td>0.0</td>\n",
       "      <td>0.0</td>\n",
       "      <td>3.0</td>\n",
       "      <td>2.0</td>\n",
       "      <td>4.0</td>\n",
       "      <td>4.0</td>\n",
       "      <td>3.0</td>\n",
       "      <td>1.0</td>\n",
       "    </tr>\n",
       "    <tr>\n",
       "      <th>0</th>\n",
       "      <td>monthly_net_salary_mt_6000eur</td>\n",
       "      <td>0.0</td>\n",
       "      <td>1.0</td>\n",
       "      <td>0.0</td>\n",
       "      <td>1.0</td>\n",
       "      <td>0.0</td>\n",
       "      <td>1.0</td>\n",
       "      <td>0.0</td>\n",
       "      <td>1.0</td>\n",
       "    </tr>\n",
       "    <tr>\n",
       "      <th>0</th>\n",
       "      <td>monthly_net_salary_refuse_to_answer</td>\n",
       "      <td>3.0</td>\n",
       "      <td>12.0</td>\n",
       "      <td>13.0</td>\n",
       "      <td>14.0</td>\n",
       "      <td>11.0</td>\n",
       "      <td>5.0</td>\n",
       "      <td>5.0</td>\n",
       "      <td>42.0</td>\n",
       "    </tr>\n",
       "  </tbody>\n",
       "</table>\n",
       "</div>"
      ],
      "text/plain": [
       "                        income_segment  \\\n",
       "0      monthly_net_salary_upto_1000eur   \n",
       "0      monthly_net_salary_1001_1500eur   \n",
       "0      monthly_net_salary_2001_3000eur   \n",
       "0      monthly_net_salary_3001_4000eur   \n",
       "0      monthly_net_salary_4001_5000eur   \n",
       "0      monthly_net_salary_5001_6000eur   \n",
       "0        monthly_net_salary_mt_6000eur   \n",
       "0  monthly_net_salary_refuse_to_answer   \n",
       "\n",
       "   expected_monthly_net_salary_upto_1000eur  \\\n",
       "0                                      25.0   \n",
       "0                                       7.0   \n",
       "0                                       2.0   \n",
       "0                                       0.0   \n",
       "0                                       0.0   \n",
       "0                                       0.0   \n",
       "0                                       0.0   \n",
       "0                                       3.0   \n",
       "\n",
       "   expected_monthly_net_salary_1001_1500eur  \\\n",
       "0                                     189.0   \n",
       "0                                      45.0   \n",
       "0                                       2.0   \n",
       "0                                       3.0   \n",
       "0                                       1.0   \n",
       "0                                       0.0   \n",
       "0                                       1.0   \n",
       "0                                      12.0   \n",
       "\n",
       "   expected_monthly_net_salary_2001_3000eur  \\\n",
       "0                                     203.0   \n",
       "0                                     226.0   \n",
       "0                                      66.0   \n",
       "0                                       6.0   \n",
       "0                                       2.0   \n",
       "0                                       3.0   \n",
       "0                                       0.0   \n",
       "0                                      13.0   \n",
       "\n",
       "   expected_monthly_net_salary_3001_4000eur  \\\n",
       "0                                      48.0   \n",
       "0                                      74.0   \n",
       "0                                     124.0   \n",
       "0                                      15.0   \n",
       "0                                       7.0   \n",
       "0                                       2.0   \n",
       "0                                       1.0   \n",
       "0                                      14.0   \n",
       "\n",
       "   expected_monthly_net_salary_4001_5000eur  \\\n",
       "0                                      17.0   \n",
       "0                                      22.0   \n",
       "0                                      51.0   \n",
       "0                                      27.0   \n",
       "0                                       8.0   \n",
       "0                                       4.0   \n",
       "0                                       0.0   \n",
       "0                                      11.0   \n",
       "\n",
       "   expected_monthly_net_salary_5001_6000eur  \\\n",
       "0                                      12.0   \n",
       "0                                      20.0   \n",
       "0                                      28.0   \n",
       "0                                      18.0   \n",
       "0                                      20.0   \n",
       "0                                       4.0   \n",
       "0                                       1.0   \n",
       "0                                       5.0   \n",
       "\n",
       "   expected_monthly_net_salary_mt_6000eur  \\\n",
       "0                                    11.0   \n",
       "0                                    11.0   \n",
       "0                                    10.0   \n",
       "0                                     3.0   \n",
       "0                                     0.0   \n",
       "0                                     3.0   \n",
       "0                                     0.0   \n",
       "0                                     5.0   \n",
       "\n",
       "   expected_monthly_net_salary_refuse_to_answer  \n",
       "0                                           9.0  \n",
       "0                                           8.0  \n",
       "0                                           5.0  \n",
       "0                                           0.0  \n",
       "0                                           1.0  \n",
       "0                                           1.0  \n",
       "0                                           1.0  \n",
       "0                                          42.0  "
      ]
     },
     "execution_count": 70,
     "metadata": {},
     "output_type": "execute_result"
    }
   ],
   "source": [
    "cross_tab_summary = doCrossTabSummary(data_slice)\n",
    "cross_tab_summary.to_excel('Part-1 Cross Tab Summary.xlsx')\n",
    "cross_tab_summary"
   ]
  },
  {
   "cell_type": "code",
   "execution_count": 245,
   "metadata": {},
   "outputs": [
    {
     "name": "stderr",
     "output_type": "stream",
     "text": [
      "C:\\Users\\tarun.trivedi\\AppData\\Local\\Continuum\\anaconda3\\lib\\site-packages\\ipykernel_launcher.py:6: SettingWithCopyWarning: \n",
      "A value is trying to be set on a copy of a slice from a DataFrame.\n",
      "Try using .loc[row_indexer,col_indexer] = value instead\n",
      "\n",
      "See the caveats in the documentation: http://pandas.pydata.org/pandas-docs/stable/indexing.html#indexing-view-versus-copy\n",
      "  \n",
      "C:\\Users\\tarun.trivedi\\AppData\\Local\\Continuum\\anaconda3\\lib\\site-packages\\ipykernel_launcher.py:7: SettingWithCopyWarning: \n",
      "A value is trying to be set on a copy of a slice from a DataFrame.\n",
      "Try using .loc[row_indexer,col_indexer] = value instead\n",
      "\n",
      "See the caveats in the documentation: http://pandas.pydata.org/pandas-docs/stable/indexing.html#indexing-view-versus-copy\n",
      "  import sys\n"
     ]
    }
   ],
   "source": [
    "\"\"\"Part-2 solution\"\"\"\n",
    "\n",
    "distance_cols = [col for col in data.columns.tolist() if 'distance_from_work' in col]\n",
    "possible_commute_distance_cols = [col for col in data.columns.tolist() if 'commute_distance' in col]\n",
    "data_slice_2 = data[['id'] + distance_cols + possible_commute_distance_cols + SEGMENT_COLS + ['Are you keen on moving closer to your work place?']]\n",
    "data_slice_2['distance_num_responses'] = len(distance_cols) - data_slice_2[distance_cols].isnull().sum(axis=1)\n",
    "data_slice_2['possible_commute_num_responses'] = len(possible_commute_distance_cols) - data_slice_2[possible_commute_distance_cols].isnull().sum(axis=1)"
   ]
  },
  {
   "cell_type": "code",
   "execution_count": 246,
   "metadata": {},
   "outputs": [
    {
     "data": {
      "text/plain": [
       "no     2280\n",
       "yes     932\n",
       "NaN     480\n",
       "Name: Are you keen on moving closer to your work place?, dtype: int64"
      ]
     },
     "execution_count": 246,
     "metadata": {},
     "output_type": "execute_result"
    }
   ],
   "source": [
    "data_slice_2['Are you keen on moving closer to your work place?'].value_counts(dropna=False)"
   ]
  },
  {
   "cell_type": "code",
   "execution_count": 247,
   "metadata": {},
   "outputs": [
    {
     "data": {
      "text/plain": [
       "3212"
      ]
     },
     "execution_count": 247,
     "metadata": {},
     "output_type": "execute_result"
    }
   ],
   "source": [
    "data_slice_2 = data_slice_2[~pd.isnull(data_slice_2['Are you keen on moving closer to your work place?'])]\n",
    "len(data_slice_2)"
   ]
  },
  {
   "cell_type": "code",
   "execution_count": 248,
   "metadata": {},
   "outputs": [
    {
     "data": {
      "text/plain": [
       "1    2152\n",
       "2     382\n",
       "0     309\n",
       "3     226\n",
       "4     113\n",
       "6      16\n",
       "5      14\n",
       "Name: possible_commute_num_responses, dtype: int64"
      ]
     },
     "execution_count": 248,
     "metadata": {},
     "output_type": "execute_result"
    }
   ],
   "source": [
    "data_slice_2['possible_commute_num_responses'].value_counts(dropna=False)"
   ]
  },
  {
   "cell_type": "code",
   "execution_count": 249,
   "metadata": {},
   "outputs": [
    {
     "data": {
      "text/plain": [
       "1    2927\n",
       "0     200\n",
       "2      68\n",
       "3      10\n",
       "6       4\n",
       "4       3\n",
       "Name: distance_num_responses, dtype: int64"
      ]
     },
     "execution_count": 249,
     "metadata": {},
     "output_type": "execute_result"
    }
   ],
   "source": [
    "data_slice_2['distance_num_responses'].value_counts(dropna=False)"
   ]
  },
  {
   "cell_type": "code",
   "execution_count": 288,
   "metadata": {},
   "outputs": [
    {
     "data": {
      "text/plain": [
       "3212"
      ]
     },
     "execution_count": 288,
     "metadata": {},
     "output_type": "execute_result"
    }
   ],
   "source": [
    "tree_data = data_slice_2[(data_slice_2['possible_commute_num_responses'] > 0) & (data_slice_2['distance_num_responses'] > 0)]\n",
    "len(data_slice_2)"
   ]
  },
  {
   "cell_type": "code",
   "execution_count": 289,
   "metadata": {},
   "outputs": [
    {
     "data": {
      "text/plain": [
       "Index(['id', 'Are you keen on moving closer to your work place?',\n",
       "       'D4# Education', 'D3# Age', 'D2# Gender', 'D1# City size',\n",
       "       'distance_from_work_lt_5km', 'distance_from_work_5_10km',\n",
       "       'distance_from_work_11_20km', 'distance_from_work_21_50km',\n",
       "       'distance_from_work_51_100km', 'distance_from_work_mt_100km'],\n",
       "      dtype='object')"
      ]
     },
     "execution_count": 289,
     "metadata": {},
     "output_type": "execute_result"
    }
   ],
   "source": [
    "data_slice_2.columns\n",
    "tree_data = tree_data[['id', 'Are you keen on moving closer to your work place?', 'D4# Education', 'D3# Age', 'D2# Gender', 'D1# City size'] + distance_cols]\n",
    "tree_data.columns"
   ]
  },
  {
   "cell_type": "code",
   "execution_count": 290,
   "metadata": {},
   "outputs": [
    {
     "data": {
      "text/plain": [
       "Index(['distance_from_work_lt_5km', 'distance_from_work_5_10km',\n",
       "       'distance_from_work_11_20km', 'distance_from_work_21_50km',\n",
       "       'distance_from_work_51_100km', 'distance_from_work_mt_100km',\n",
       "       'D4# Education_higher', 'D4# Education_secondary',\n",
       "       'D4# Education_vocational', 'D3# Age_25 - 30 years',\n",
       "       'D3# Age_31 - 40 years', 'D3# Age_41 - 50 years',\n",
       "       'D3# Age_less than 18 years', 'D3# Age_more than 50 years',\n",
       "       'D2# Gender_male', 'D1# City size_200k - 500k inhabitants',\n",
       "       'D1# City size_20k - 49k inhabitants',\n",
       "       'D1# City size_50k - 99k inhabitants',\n",
       "       'D1# City size_city up to 20k inhabitants',\n",
       "       'D1# City size_more than 500k inhabitants', 'D1# City size_village'],\n",
       "      dtype='object')"
      ]
     },
     "execution_count": 290,
     "metadata": {},
     "output_type": "execute_result"
    }
   ],
   "source": [
    "\"\"\"Transforming numeric variables into categorical for running decision tree\"\"\"\n",
    "\n",
    "features = distance_cols + ['D4# Education', 'D3# Age', 'D2# Gender', 'D1# City size']\n",
    "tree_data.replace('current job', 1, inplace=True)\n",
    "tree_data.replace('previous job', 1, inplace=True)\n",
    "tree_data.replace('sought-after job', 1, inplace=True)\n",
    "tree_data.replace(np.nan, 0, inplace=True)\n",
    "tree_data['Are you keen on moving closer to your work place?'] = np.where(tree_data['Are you keen on moving closer to your work place?'] == 'no', 0, 1)\n",
    "X = pd.get_dummies(tree_data[features], drop_first=True)\n",
    "y = tree_data['Are you keen on moving closer to your work place?']\n",
    "y.value_counts(dropna=False)\n",
    "#X.drop(['commute_distance_mt_100km', 'commute_distance_51_100km'], axis=1, inplace=True)\n",
    "X.columns"
   ]
  },
  {
   "cell_type": "code",
   "execution_count": 291,
   "metadata": {},
   "outputs": [],
   "source": [
    "clf = DecisionTreeClassifier(min_samples_leaf = 30)\n",
    "clf.fit(X, y)\n",
    "dotfile = open('dtree.dot', 'w')\n",
    "dot_data = tree.export_graphviz(clf, out_file=dotfile,\n",
    "                                feature_names=X.columns.tolist())\n",
    "dotfile.close()"
   ]
  },
  {
   "cell_type": "code",
   "execution_count": 261,
   "metadata": {},
   "outputs": [
    {
     "data": {
      "text/html": [
       "<div>\n",
       "<style scoped>\n",
       "    .dataframe tbody tr th:only-of-type {\n",
       "        vertical-align: middle;\n",
       "    }\n",
       "\n",
       "    .dataframe tbody tr th {\n",
       "        vertical-align: top;\n",
       "    }\n",
       "\n",
       "    .dataframe thead th {\n",
       "        text-align: right;\n",
       "    }\n",
       "</style>\n",
       "<table border=\"1\" class=\"dataframe\">\n",
       "  <thead>\n",
       "    <tr style=\"text-align: right;\">\n",
       "      <th></th>\n",
       "      <th>0</th>\n",
       "      <th>1</th>\n",
       "      <th>possible_commute_distance</th>\n",
       "    </tr>\n",
       "  </thead>\n",
       "  <tbody>\n",
       "    <tr>\n",
       "      <th>0</th>\n",
       "      <td>884</td>\n",
       "      <td>337</td>\n",
       "      <td>commute_distance_lt_5km</td>\n",
       "    </tr>\n",
       "    <tr>\n",
       "      <th>0</th>\n",
       "      <td>951</td>\n",
       "      <td>337</td>\n",
       "      <td>commute_distance_5_10km</td>\n",
       "    </tr>\n",
       "    <tr>\n",
       "      <th>0</th>\n",
       "      <td>671</td>\n",
       "      <td>304</td>\n",
       "      <td>commute_distance_11_20km</td>\n",
       "    </tr>\n",
       "    <tr>\n",
       "      <th>0</th>\n",
       "      <td>274</td>\n",
       "      <td>207</td>\n",
       "      <td>commute_distance_21_50km</td>\n",
       "    </tr>\n",
       "    <tr>\n",
       "      <th>0</th>\n",
       "      <td>24</td>\n",
       "      <td>59</td>\n",
       "      <td>commute_distance_51_100km</td>\n",
       "    </tr>\n",
       "    <tr>\n",
       "      <th>0</th>\n",
       "      <td>20</td>\n",
       "      <td>68</td>\n",
       "      <td>commute_distance_mt_100km</td>\n",
       "    </tr>\n",
       "  </tbody>\n",
       "</table>\n",
       "</div>"
      ],
      "text/plain": [
       "     0    1  possible_commute_distance\n",
       "0  884  337    commute_distance_lt_5km\n",
       "0  951  337    commute_distance_5_10km\n",
       "0  671  304   commute_distance_11_20km\n",
       "0  274  207   commute_distance_21_50km\n",
       "0   24   59  commute_distance_51_100km\n",
       "0   20   68  commute_distance_mt_100km"
      ]
     },
     "execution_count": 261,
     "metadata": {},
     "output_type": "execute_result"
    }
   ],
   "source": [
    "clubbed_summary = pd.DataFrame()\n",
    "for col in possible_commute_distance_cols:\n",
    "    verify = tree_data[tree_data[col] == 1]\n",
    "    verify = pd.DataFrame(verify['Are you keen on moving closer to your work place?'].value_counts(dropna=False)).transpose().reset_index(drop=True)\n",
    "    verify['possible_commute_distance'] = col\n",
    "    clubbed_summary = clubbed_summary.append(verify)\n",
    "\n",
    "clubbed_summary"
   ]
  },
  {
   "cell_type": "code",
   "execution_count": 287,
   "metadata": {},
   "outputs": [
    {
     "data": {
      "text/plain": [
       "distance_from_work_lt_5km      55.0\n",
       "distance_from_work_5_10km      42.0\n",
       "distance_from_work_11_20km     48.0\n",
       "distance_from_work_21_50km     55.0\n",
       "distance_from_work_51_100km    12.0\n",
       "distance_from_work_mt_100km    13.0\n",
       "dtype: float64"
      ]
     },
     "execution_count": 287,
     "metadata": {},
     "output_type": "execute_result"
    }
   ],
   "source": [
    "dist_51_100 = tree_data[(tree_data['commute_distance_21_50km'] == 1) & (tree_data['Are you keen on moving closer to your work place?'] == 1)]\n",
    "distri = dist_51_100[distance_cols].sum()\n",
    "distri"
   ]
  },
  {
   "cell_type": "code",
   "execution_count": 295,
   "metadata": {},
   "outputs": [
    {
     "data": {
      "text/html": [
       "<div>\n",
       "<style scoped>\n",
       "    .dataframe tbody tr th:only-of-type {\n",
       "        vertical-align: middle;\n",
       "    }\n",
       "\n",
       "    .dataframe tbody tr th {\n",
       "        vertical-align: top;\n",
       "    }\n",
       "\n",
       "    .dataframe thead th {\n",
       "        text-align: right;\n",
       "    }\n",
       "</style>\n",
       "<table border=\"1\" class=\"dataframe\">\n",
       "  <thead>\n",
       "    <tr style=\"text-align: right;\">\n",
       "      <th></th>\n",
       "      <th>0</th>\n",
       "      <th>1</th>\n",
       "      <th>2</th>\n",
       "      <th>3</th>\n",
       "    </tr>\n",
       "  </thead>\n",
       "  <tbody>\n",
       "    <tr>\n",
       "      <th>D2# Gender</th>\n",
       "      <td>female</td>\n",
       "      <td>female</td>\n",
       "      <td>male</td>\n",
       "      <td>male</td>\n",
       "    </tr>\n",
       "    <tr>\n",
       "      <th>Are you keen on moving closer to your work place?</th>\n",
       "      <td>0</td>\n",
       "      <td>1</td>\n",
       "      <td>0</td>\n",
       "      <td>1</td>\n",
       "    </tr>\n",
       "    <tr>\n",
       "      <th>id</th>\n",
       "      <td>1098</td>\n",
       "      <td>347</td>\n",
       "      <td>924</td>\n",
       "      <td>481</td>\n",
       "    </tr>\n",
       "  </tbody>\n",
       "</table>\n",
       "</div>"
      ],
      "text/plain": [
       "                                                        0       1     2     3\n",
       "D2# Gender                                         female  female  male  male\n",
       "Are you keen on moving closer to your work place?       0       1     0     1\n",
       "id                                                   1098     347   924   481"
      ]
     },
     "execution_count": 295,
     "metadata": {},
     "output_type": "execute_result"
    }
   ],
   "source": [
    "gender = tree_data.groupby(['D2# Gender', 'Are you keen on moving closer to your work place?']).agg({'id':np.size}).reset_index()\n",
    "gender = gender.transpose()\n",
    "gender"
   ]
  }
 ],
 "metadata": {
  "kernelspec": {
   "display_name": "Python 3",
   "language": "python",
   "name": "python3"
  },
  "language_info": {
   "codemirror_mode": {
    "name": "ipython",
    "version": 3
   },
   "file_extension": ".py",
   "mimetype": "text/x-python",
   "name": "python",
   "nbconvert_exporter": "python",
   "pygments_lexer": "ipython3",
   "version": "3.7.3"
  }
 },
 "nbformat": 4,
 "nbformat_minor": 2
}
